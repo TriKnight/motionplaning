{
 "cells": [
  {
   "cell_type": "code",
   "execution_count": 1,
   "id": "99889d16",
   "metadata": {},
   "outputs": [
    {
     "name": "stdout",
     "output_type": "stream",
     "text": [
      "Requirement already satisfied: qpsolvers in /home/robotlab/anaconda3/envs/rbt/lib/python3.8/site-packages (3.4.0)\r\n",
      "Requirement already satisfied: scipy>=1.2.0 in /home/robotlab/anaconda3/envs/rbt/lib/python3.8/site-packages (from qpsolvers) (1.9.3)\r\n",
      "Requirement already satisfied: ecos>=2.0.8 in /home/robotlab/anaconda3/envs/rbt/lib/python3.8/site-packages (from qpsolvers) (2.0.12)\r\n",
      "Requirement already satisfied: scs>=3.2.0 in /home/robotlab/anaconda3/envs/rbt/lib/python3.8/site-packages (from qpsolvers) (3.2.3)\r\n",
      "Requirement already satisfied: daqp>=0.5.1 in /home/robotlab/anaconda3/envs/rbt/lib/python3.8/site-packages (from qpsolvers) (0.5.1)\r\n",
      "Requirement already satisfied: numpy>=1.15.4 in /home/robotlab/anaconda3/envs/rbt/lib/python3.8/site-packages (from qpsolvers) (1.23.4)\r\n",
      "Requirement already satisfied: osqp>=0.6.2 in /home/robotlab/anaconda3/envs/rbt/lib/python3.8/site-packages (from qpsolvers) (0.6.3)\r\n",
      "Requirement already satisfied: qdldl in /home/robotlab/anaconda3/envs/rbt/lib/python3.8/site-packages (from osqp>=0.6.2->qpsolvers) (0.1.7)\r\n"
     ]
    }
   ],
   "source": [
    "!pip install qpsolvers"
   ]
  },
  {
   "cell_type": "code",
   "execution_count": 2,
   "id": "f9301ae2",
   "metadata": {},
   "outputs": [],
   "source": [
    "import roboticstoolbox as rtb\n",
    "import spatialmath as sm\n",
    "import numpy as np\n",
    "import qpsolvers as qp\n",
    "import swift\n",
    "# Launch the simulator Swift\n",
    "env = swift.Swift()\n",
    "env.launch(realtime=True)\n",
    "\n",
    "\n",
    "# Create a Panda robot object\n",
    "panda = rtb.models.Panda()\n",
    "\n",
    "# Set joint angles to ready configuration\n",
    "panda.q = panda.qr\n",
    "\n",
    "# Add the Panda to the simulator\n",
    "env.add(panda)\n",
    "\n",
    "# Number of joint in the panda which we are controlling\n",
    "n = 7"
   ]
  },
  {
   "cell_type": "code",
   "execution_count": 3,
   "id": "1a98a6eb",
   "metadata": {},
   "outputs": [],
   "source": [
    "\n",
    "# Set the desired end-effector pose\n",
    "Tep = panda.fkine(panda.q) * sm.SE3(-0.3, -0.2, -0.3)\n",
    "\n",
    "arrived = False\n",
    "\n",
    "while not arrived:\n",
    "\n",
    "    # The pose of the Panda's end-effector\n",
    "    Te = panda.fkine(panda.q)\n",
    "\n",
    "    # Transform from the end-effector to desired pose\n",
    "    eTep = Te.inv() * Tep\n",
    "\n",
    "    # Spatial error\n",
    "    e = np.sum(np.abs(np.r_[eTep.t, eTep.rpy() * np.pi/180]))\n",
    "\n",
    "    # Calulate the required end-effector spatial velocity for the robot\n",
    "    # to approach the goal. Gain is set to 1.0\n",
    "    v, arrived = rtb.p_servo(Te, Tep, 1.0)\n",
    "\n",
    "    # Gain term (lambda) for control minimisation\n",
    "    Y = 0.01\n",
    "\n",
    "    # Quadratic component of objective function\n",
    "    Q = np.eye(n + 6)\n",
    "\n",
    "    # Joint velocity component of Q\n",
    "    Q[:n, :n] *= Y\n",
    "\n",
    "    # Slack component of Q\n",
    "    Q[n:, n:] = (1 / e) * np.eye(6)\n",
    "\n",
    "    # The equality contraints\n",
    "    Aeq = np.c_[panda.jacobe(panda.q), np.eye(6)]\n",
    "    beq = v.reshape((6,))\n",
    "\n",
    "    # The inequality constraints for joint limit avoidance\n",
    "    Ain = np.zeros((n + 6, n + 6))\n",
    "    bin = np.zeros(n + 6)\n",
    "\n",
    "    # The minimum angle (in radians) in which the joint is allowed to approach\n",
    "    # to its limit\n",
    "    ps = 0.05\n",
    "\n",
    "    # The influence angle (in radians) in which the velocity damper\n",
    "    # becomes active\n",
    "    pi = 0.9\n",
    "\n",
    "    # Form the joint limit velocity damper\n",
    "    Ain[:n, :n], bin[:n] = panda.joint_velocity_damper(ps, pi, n)\n",
    "\n",
    "    # Linear component of objective function: the manipulability Jacobian\n",
    "    c = np.r_[-panda.jacobm().reshape((n,)), np.zeros(6)]\n",
    "\n",
    "    # The lower and upper bounds on the joint velocity and slack variable\n",
    "    lb = -np.r_[panda.qdlim[:n], 10 * np.ones(6)]\n",
    "    ub = np.r_[panda.qdlim[:n], 10 * np.ones(6)]\n",
    "\n",
    "    # Solve for the joint velocities dq\n",
    "    qd = qp.solve_qp(Q, c, Ain, bin, Aeq, beq, lb=lb, ub=ub, solver='daqp')\n",
    "\n",
    "    # Apply the joint velocities to the Panda\n",
    "    panda.qd[:n] = qd[:n]\n",
    "\n",
    "    # Step the simulator by 50 ms\n",
    "    env.step(0.05)\n"
   ]
  },
  {
   "cell_type": "code",
   "execution_count": null,
   "id": "e5798794",
   "metadata": {},
   "outputs": [],
   "source": []
  }
 ],
 "metadata": {
  "kernelspec": {
   "display_name": "roboticstoolbox",
   "language": "python",
   "name": "roboticstoolbox"
  },
  "language_info": {
   "codemirror_mode": {
    "name": "ipython",
    "version": 3
   },
   "file_extension": ".py",
   "mimetype": "text/x-python",
   "name": "python",
   "nbconvert_exporter": "python",
   "pygments_lexer": "ipython3",
   "version": "3.8.13"
  }
 },
 "nbformat": 4,
 "nbformat_minor": 5
}
