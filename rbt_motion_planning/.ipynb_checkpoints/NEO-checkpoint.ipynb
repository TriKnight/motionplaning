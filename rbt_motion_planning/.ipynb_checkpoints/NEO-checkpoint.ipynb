{
 "cells": [
  {
   "cell_type": "code",
   "execution_count": 1,
   "id": "7f7a39c8",
   "metadata": {},
   "outputs": [],
   "source": [
    "# !pip3 install pybullet\n",
    "# !pip3 install roboticstoolbox-python[collision]\n",
    "# !pip install roboticstoolbox-python==1.1.0"
   ]
  },
  {
   "cell_type": "code",
   "execution_count": 6,
   "id": "10c186d5",
   "metadata": {},
   "outputs": [],
   "source": [
    "import swift\n",
    "import spatialgeometry as sg\n",
    "import roboticstoolbox as rtb\n",
    "import spatialmath as sm\n",
    "import numpy as np\n",
    "import qpsolvers as qp\n",
    "import cProfile\n",
    "from spatialmath.pose3d import SE3"
   ]
  },
  {
   "cell_type": "code",
   "execution_count": 7,
   "id": "6dbb17b3",
   "metadata": {},
   "outputs": [
    {
     "data": {
      "text/plain": [
       "array([ 0.3, -0.2,  0. ])"
      ]
     },
     "execution_count": 7,
     "metadata": {},
     "output_type": "execute_result"
    }
   ],
   "source": [
    "target = sg.Sphere(radius =0.01, pose=sm.SE3(0.3, -0.2, 0.0))\n",
    "target.T[:3, 3] "
   ]
  },
  {
   "cell_type": "code",
   "execution_count": 10,
   "id": "f23d0aff",
   "metadata": {},
   "outputs": [
    {
     "data": {
      "text/plain": [
       "6"
      ]
     },
     "execution_count": 10,
     "metadata": {},
     "output_type": "execute_result"
    }
   ],
   "source": [
    "# Launch the simulator Swift\n",
    "env = swift.Swift()\n",
    "env.launch()\n",
    "\n",
    "# Create a Panda robot object\n",
    "panda = rtb.models.Panda()\n",
    "\n",
    "# Set joint angles to ready configuration\n",
    "panda.q = panda.qr\n",
    "\n",
    "# Number of joint in the panda which we are controlling\n",
    "n = 7\n",
    "\n",
    "# Make two obstacles with velocities\n",
    "s0 = sg.Sphere(radius=0.05, pose=sm.SE3(0.52, 0.4, 0.3))\n",
    "s0.v = [0, -0.2, 0, 0, 0, 0]\n",
    "\n",
    "s1 = sg.Sphere(radius=0.05, pose=sm.SE3(0.1, 0.35, 0.65))\n",
    "s1.v = [0, -0.2, 0, 0, 0, 0]\n",
    "\n",
    "s3 = sg.Sphere(radius=0.02, pose=sm.SE3(0.3, 0, 0.4))\n",
    "s3.v = [-0.1, -0.2, 0, 0, 0, 0.0]\n",
    "\n",
    "collisions = [s0, s1, s3]\n",
    "\n",
    "# Make a target\n",
    "target = sg.Sphere(radius =0.01, pose=sm.SE3(0.3, -0.2, 0.0))\n",
    "# Add the Panda and shapes to the simulator\n",
    "env.add(panda)\n",
    "env.add(s0)\n",
    "env.add(s1)\n",
    "env.add(s3)\n",
    "env.add(target)\n",
    "\n",
    "\n",
    "# Set the desired end-effector pose to the location of target\n",
    "Tep = panda.fkine(panda.q)\n",
    "Tep.A[:3, 3] = target.T[:3, 3] # get only position x y z\n",
    "#Tep.A[2, 3] += 0.1\n",
    "\n",
    "#Show axis\n",
    "# end-effector axes\n",
    "ee_axes = sg.Axes(0.1)\n",
    "# This pose can be either a spatialmat SE3 or a 4x4 ndarray\n",
    "ee_axes.T = panda.fkine(panda.q)\n",
    "# goal axes\n",
    "goal_axes = sg.Axes(0.1)\n",
    "goal_axes.T = Tep\n",
    "# Add the axes to the environment\n",
    "env.add(ee_axes)\n",
    "env.add(goal_axes) "
   ]
  },
  {
   "cell_type": "code",
   "execution_count": 11,
   "id": "ca1bd604",
   "metadata": {},
   "outputs": [],
   "source": [
    "def step():\n",
    "    # Change the Tep frequently\n",
    "    target.v = [-0.003, -0.003, 0.0, 0.1, 0.1, 0.1]\n",
    "    Tep.A[:3, 3] = target.T[:3, 3]\n",
    "    # Show the axis\n",
    "    goal_axes.T = Tep\n",
    "    # The pose of the Panda's end-effector\n",
    "    Te = panda.fkine(panda.q)\n",
    "\n",
    "    # Transform from the end-effector to desired pose\n",
    "    eTep = Te.inv() * Tep\n",
    "\n",
    "    # Spatial error\n",
    "    e = np.sum(np.abs(np.r_[eTep.t, eTep.rpy() * np.pi / 180]))\n",
    "\n",
    "    # Calulate the required end-effector spatial velocity for the robot\n",
    "    # to approach the goal. Gain is set to 1.0\n",
    "    v, arrived = rtb.p_servo(Te, Tep, 0.5, 0.01)\n",
    "\n",
    "    # Gain term (lambda) for control minimisation\n",
    "    Y = 0.01\n",
    "\n",
    "    # Quadratic component of objective function\n",
    "    Q = np.eye(n + 6)\n",
    "\n",
    "    # Joint velocity component of Q\n",
    "    Q[:n, :n] *= Y\n",
    "\n",
    "    # Slack component of Q\n",
    "    Q[n:, n:] = (1 / e) * np.eye(6)\n",
    "\n",
    "    # The equality contraints\n",
    "    Aeq = np.c_[panda.jacobe(panda.q), np.eye(6)]\n",
    "    beq = v.reshape((6,))\n",
    "\n",
    "    # The inequality constraints for joint limit avoidance\n",
    "    Ain = np.zeros((n + 6, n + 6))\n",
    "    bin = np.zeros(n + 6)\n",
    "\n",
    "    # The minimum angle (in radians) in which the joint is allowed to approach\n",
    "    # to its limit\n",
    "    ps = 0.05\n",
    "\n",
    "    # The influence angle (in radians) in which the velocity damper\n",
    "    # becomes active\n",
    "    pi = 0.9\n",
    "\n",
    "    # Form the joint limit velocity damper\n",
    "    Ain[:n, :n], bin[:n] = panda.joint_velocity_damper(ps, pi, n)\n",
    "\n",
    "    # For each collision in the scene\n",
    "    for collision in collisions:\n",
    "\n",
    "        # Form the velocity damper inequality contraint for each collision\n",
    "        # object on the robot to the collision in the scene\n",
    "        c_Ain, c_bin = panda.link_collision_damper(\n",
    "            collision,\n",
    "            panda.q[:n],\n",
    "            0.3,\n",
    "            0.05,\n",
    "            1.0,\n",
    "            start=panda.link_dict[\"panda_link1\"],\n",
    "            end=panda.link_dict[\"panda_hand\"],\n",
    "        )\n",
    "\n",
    "        # If there are any parts of the robot within the influence distance\n",
    "        # to the collision in the scene\n",
    "        if c_Ain is not None and c_bin is not None:\n",
    "            c_Ain = np.c_[c_Ain, np.zeros((c_Ain.shape[0], 6))]\n",
    "\n",
    "            # Stack the inequality constraints\n",
    "            Ain = np.r_[Ain, c_Ain]\n",
    "            bin = np.r_[bin, c_bin]\n",
    "\n",
    "    # Linear component of objective function: the manipulability Jacobian\n",
    "    c = np.r_[-panda.jacobm(panda.q).reshape((n,)), np.zeros(6)]\n",
    "\n",
    "    # The lower and upper bounds on the joint velocity and slack variable\n",
    "    lb = -np.r_[panda.qdlim[:n], 10 * np.ones(6)]\n",
    "    ub = np.r_[panda.qdlim[:n], 10 * np.ones(6)]\n",
    "\n",
    "    # Solve for the joint velocities dq\n",
    "    qd = qp.solve_qp(Q, c, Ain, bin, Aeq, beq, lb=lb, ub=ub, solver='daqp')\n",
    "\n",
    "    # Apply the joint velocities to the Panda\n",
    "    panda.qd[:n] = qd[:n]\n",
    "\n",
    "    # Step the simulator by 50 ms\n",
    "    env.step(0.01)\n",
    "\n",
    "    return arrived\n",
    "\n",
    "arrived = False\n",
    "while not arrived:\n",
    "    arrived = step()\n"
   ]
  },
  {
   "cell_type": "code",
   "execution_count": null,
   "id": "e570a513",
   "metadata": {},
   "outputs": [],
   "source": []
  }
 ],
 "metadata": {
  "kernelspec": {
   "display_name": "roboticstoolbox",
   "language": "python",
   "name": "roboticstoolbox"
  },
  "language_info": {
   "codemirror_mode": {
    "name": "ipython",
    "version": 3
   },
   "file_extension": ".py",
   "mimetype": "text/x-python",
   "name": "python",
   "nbconvert_exporter": "python",
   "pygments_lexer": "ipython3",
   "version": "3.8.13"
  }
 },
 "nbformat": 4,
 "nbformat_minor": 5
}
