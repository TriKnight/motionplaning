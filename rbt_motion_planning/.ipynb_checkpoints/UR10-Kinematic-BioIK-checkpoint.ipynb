{
 "cells": [
  {
   "cell_type": "markdown",
   "id": "051adb20",
   "metadata": {},
   "source": [
    "# BIO IK for UR Robot"
   ]
  },
  {
   "cell_type": "markdown",
   "id": "811627e3",
   "metadata": {},
   "source": [
    "# Using Swift simulation"
   ]
  },
  {
   "cell_type": "code",
   "execution_count": 1,
   "id": "5fc1f561",
   "metadata": {},
   "outputs": [
    {
     "name": "stdout",
     "output_type": "stream",
     "text": [
      "DHRobot: UR10 (by Universal Robotics), 6 joints (RRRRRR), dynamics, standard DH parameters\n",
      "┌────┬────────┬─────────┬────────┐\n",
      "│θⱼ  │   dⱼ   │   aⱼ    │   ⍺ⱼ   │\n",
      "├────┼────────┼─────────┼────────┤\n",
      "│ q1 │ 0.1273 │       0 │  90.0° │\n",
      "│ q2 │      0 │  -0.612 │   0.0° │\n",
      "│ q3 │      0 │ -0.5723 │   0.0° │\n",
      "│ q4 │ 0.1639 │       0 │  90.0° │\n",
      "│ q5 │ 0.1157 │       0 │ -90.0° │\n",
      "│ q6 │ 0.0922 │       0 │   0.0° │\n",
      "└────┴────────┴─────────┴────────┘\n",
      "\n",
      "┌─┬──┐\n",
      "└─┴──┘\n",
      "\n",
      "┌─────┬───────┬─────┬─────┬─────┬──────┬─────┐\n",
      "│name │ q0    │ q1  │ q2  │ q3  │ q4   │ q5  │\n",
      "├─────┼───────┼─────┼─────┼─────┼──────┼─────┤\n",
      "│  qr │  180° │  0° │  0° │  0° │  90° │  0° │\n",
      "│  qz │  0°   │  0° │  0° │  0° │  0°  │  0° │\n",
      "└─────┴───────┴─────┴─────┴─────┴──────┴─────┘\n",
      "\n",
      "  -1         0         0        -1.477     \n",
      "   0         1         0         0.03606   \n",
      "   0         0        -1        -0.4384    \n",
      "   0         0         0         1         \n",
      "\n"
     ]
    }
   ],
   "source": [
    "import numpy as np\n",
    "import roboticstoolbox as rtb\n",
    "from spatialmath import *\n",
    "# spatialgeometry is a utility package for dealing with geometric objects\n",
    "import spatialgeometry as sg\n",
    "# typing utilities\n",
    "from typing import Tuple\n",
    "# the Python math library\n",
    "import math\n",
    "\n",
    "from math import pi\n",
    "import matplotlib.pyplot as plt\n",
    "from matplotlib import cm\n",
    "np.set_printoptions(linewidth=100, formatter={'float': lambda x: f\"{x:8.4g}\" if abs(x) > 1e-10 else f\"{0:8.4g}\"})\n",
    "\n",
    "%matplotlib notebook\n",
    "\n",
    "from swift.SwiftElement import (\n",
    "    SwiftElement,\n",
    "    Slider,\n",
    "    Select,\n",
    "    Checkbox,\n",
    "    Radio,\n",
    "    Button,\n",
    "    Label,\n",
    ")\n",
    "\n",
    "ur10 = rtb.models.DH.UR10()\n",
    "print(ur10)\n",
    "import swift\n",
    "import roboticstoolbox as rp\n",
    "import spatialmath as sm\n",
    "import numpy as np\n",
    "\n",
    "env = swift.Swift()\n",
    "env.launch(realtime=True)\n",
    "\n",
    "ur10 = rp.models.UR10()\n",
    "ur10.q = ur10.qr\n",
    "\n",
    "Tep = ur10.fkine(ur10.q) * sm.SE3.Trans(0.2, 0.2, 0.45)\n",
    "print(Tep)"
   ]
  },
  {
   "cell_type": "code",
   "execution_count": 2,
   "id": "e5c8caa4",
   "metadata": {},
   "outputs": [
    {
     "name": "stdout",
     "output_type": "stream",
     "text": [
      "[   3.142        0        0        0    1.571        0]\n"
     ]
    }
   ],
   "source": [
    "print(ur10.qr)\n",
    "#env.remove(ur10)"
   ]
  },
  {
   "cell_type": "code",
   "execution_count": 3,
   "id": "e2556113",
   "metadata": {},
   "outputs": [
    {
     "data": {
      "text/plain": [
       "0"
      ]
     },
     "execution_count": 3,
     "metadata": {},
     "output_type": "execute_result"
    }
   ],
   "source": [
    "arrived = False\n",
    "#\n",
    "ur10.q = np.array([0.0, -1.57, 1.57, 0.0, 0.0, 0.0])\n",
    "env.add(ur10)\n"
   ]
  },
  {
   "cell_type": "code",
   "execution_count": 4,
   "id": "2d1d08f3",
   "metadata": {},
   "outputs": [
    {
     "data": {
      "text/plain": [
       "2"
      ]
     },
     "execution_count": 4,
     "metadata": {},
     "output_type": "execute_result"
    }
   ],
   "source": [
    "# end-effector axes\n",
    "ee_axes = sg.Axes(0.1)\n",
    "\n",
    "# goal axes\n",
    "goal_axes = sg.Axes(0.1)\n",
    "\n",
    "# Add the axes to the environment\n",
    "env.add(ee_axes)\n",
    "env.add(goal_axes) \n"
   ]
  },
  {
   "cell_type": "code",
   "execution_count": 5,
   "id": "86b5c4f6",
   "metadata": {},
   "outputs": [],
   "source": [
    "\n",
    "\n",
    "# We can set the pose of the shape using the `.T` attribute.\n",
    "# This pose can be either a spatialmat SE3 or a 4x4 ndarray\n",
    "ee_axes.T = ur10.fkine(ur10.q)\n",
    "\n",
    "# Set the goal axes to something along the x axis\n",
    "goal_axes.T = sm.SE3.Trans(0.2, 0.0, 0.2)\n",
    "\n",
    "# step the environment to view the changes\n",
    "env.step(0)\n",
    "\n"
   ]
  },
  {
   "cell_type": "code",
   "execution_count": 7,
   "id": "86320444",
   "metadata": {},
   "outputs": [],
   "source": [
    "\n",
    "# Step the environment with a time step of 0 seconds\n",
    "env.step(0)\n"
   ]
  },
  {
   "cell_type": "markdown",
   "id": "be3e498d",
   "metadata": {},
   "source": [
    "## Resolve Rate Motion Control"
   ]
  },
  {
   "cell_type": "code",
   "execution_count": 15,
   "id": "9914c118",
   "metadata": {
    "scrolled": true
   },
   "outputs": [
    {
     "name": "stdout",
     "output_type": "stream",
     "text": [
      "[       0    -1.57     1.57        0        0        0]\n",
      "Jacobian matrix: [[ -0.2561   0.4963  -0.1157  -0.1157   0.0922        0]\n",
      " [  0.5728        0        0        0        0        0]\n",
      " [       0  -0.5728  -0.5723        0        0        0]\n",
      " [       0        0        0        0        0        0]\n",
      " [       0        1        1        1        0        1]\n",
      " [       1        0        0        0       -1        0]]\n",
      "det of the Jacobian matrix: 3.747877012848248e-50\n"
     ]
    }
   ],
   "source": [
    "print(ur10.q)\n",
    "J = ur10.jacob0(ur10.q)\n",
    "det_J = np.linalg.det(J)\n",
    "print('Jacobian matrix:', J)\n",
    "print('det of the Jacobian matrix:', det_J)"
   ]
  },
  {
   "cell_type": "code",
   "execution_count": 8,
   "id": "0a2bd283",
   "metadata": {},
   "outputs": [],
   "source": [
    "# Change the robot configuration to the ready position\n",
    "#ur10.q = np.array([0.0, -1.5, 1, 0.0, 0.0, 0.0])\n",
    "ur10.q = np.array([0.0, -1.57, 1.57, 0.0, 0.0, 0.0])\n",
    "# Step the sim to view the robot in this configuration\n",
    "env.step(0)\n",
    "\n",
    "# Specify our desired end-effector velocity\n",
    "ev = [0.0, 0.0, 0.0, 0.0, 0.0, 0.05]\n",
    "\n",
    "# Specify our timestep\n",
    "dt = 0.05\n",
    "\n",
    "# Run the simulation for 10 seconds\n",
    "for _ in range(100):\n",
    "\n",
    "    # Work out the manipulator Jacobian using the current robot configuration\n",
    "    J = ur10.jacob0(ur10.q)\n",
    "\n",
    "    # Since the UR10 has 6 joints, the Jacobian is square, but a matrix is singular and cannot be inverted  therefore we must\n",
    "    # use the pseudoinverse (the pinv method)\n",
    "    J_pinv = np.linalg.pinv(J)\n",
    "\n",
    "    # Calculate the required joint velocities and apply to the robot\n",
    "    ur10.qd = J_pinv @ ev\n",
    "\n",
    "    # Step the simulator by dt seconds\n",
    "    env.step(dt)"
   ]
  },
  {
   "cell_type": "code",
   "execution_count": 6,
   "id": "bcc12770",
   "metadata": {},
   "outputs": [],
   "source": [
    "# Change the robot configuration to the ready position\n",
    "ur10.q = np.array([0.0, -1.5, 1, 0.0, 0.0, 0.0])\n",
    "\n",
    "# Step the sim to view the robot in this configuration\n",
    "env.step(0)\n",
    "\n",
    "# Rotating around z-axis\n",
    "ev = [0.0, 0.0, 0.0, 0.0, 0.0, -0.2]\n",
    "\n",
    "# Specify our timestep\n",
    "dt = 0.05\n",
    "\n",
    "# Run the simulation for 10 seconds\n",
    "for _ in range(100):\n",
    "\n",
    "    # Work out the manipulator Jacobian using the current robot configuration\n",
    "    J = ur10.jacob0(ur10.q)\n",
    "\n",
    "    # Since the UR10 has 6 joints, the Jacobian is square, but a matrix is singular and cannot be inverted  therefore we must\n",
    "    # use the pseudoinverse (the pinv method)\n",
    "    J_pinv = np.linalg.pinv(J)\n",
    "\n",
    "    # Calculate the required joint velocities and apply to the robot\n",
    "    ur10.qd = J_pinv @ ev\n",
    "\n",
    "    # Step the simulator by dt seconds\n",
    "    env.step(dt)"
   ]
  },
  {
   "cell_type": "markdown",
   "id": "c74ee3d2",
   "metadata": {},
   "source": [
    "### Position based Servoing"
   ]
  },
  {
   "cell_type": "code",
   "execution_count": 10,
   "id": "9d0ac1b6",
   "metadata": {},
   "outputs": [],
   "source": [
    "def angle_axis(T: np.ndarray, Td: np.ndarray) -> np.ndarray:\n",
    "    \"\"\"\n",
    "    Returns the error vector between T and Td in angle-axis form.\n",
    "\n",
    "    :param T: The current pose\n",
    "    :param Tep: The desired pose\n",
    "\n",
    "    :returns e: the error vector between T and Td\n",
    "    \"\"\"\n",
    "\n",
    "    e = np.empty(6)\n",
    "\n",
    "    # The position error\n",
    "    e[:3] = Td[:3, -1] - T[:3, -1]\n",
    "\n",
    "    R = Td[:3, :3] @ T[:3, :3].T\n",
    "\n",
    "    li = np.array([R[2, 1] - R[1, 2], R[0, 2] - R[2, 0], R[1, 0] - R[0, 1]])\n",
    "\n",
    "    if np.linalg.norm(li) < 1e-6:\n",
    "        # If li is a zero vector (or very close to it)\n",
    "\n",
    "        # diagonal matrix case\n",
    "        if np.trace(R) > 0:\n",
    "            # (1,1,1) case\n",
    "            a = np.zeros((3,))\n",
    "        else:\n",
    "            a = np.pi / 2 * (np.diag(R) + 1)\n",
    "    else:\n",
    "        # non-diagonal matrix case\n",
    "        ln = np.linalg.norm(li)\n",
    "        a = math.atan2(ln, np.trace(R) - 1) * li / ln\n",
    "\n",
    "    e[3:] = a\n",
    "\n",
    "    return e"
   ]
  },
  {
   "cell_type": "code",
   "execution_count": 11,
   "id": "5a3631d4",
   "metadata": {},
   "outputs": [
    {
     "data": {
      "text/plain": [
       "5"
      ]
     },
     "execution_count": 11,
     "metadata": {},
     "output_type": "execute_result"
    }
   ],
   "source": [
    "#Test pose error vector\n",
    "ee_axis=sg.Axes(0.1)\n",
    "ds_axis=sg.Axes(0.1)\n",
    "# Add the axes to the environment\n",
    "env.add(ee_axis)\n",
    "env.add(ds_axis) \n"
   ]
  },
  {
   "cell_type": "code",
   "execution_count": 12,
   "id": "2d434f9c",
   "metadata": {},
   "outputs": [],
   "source": [
    "# We can set the pose of the shape using the `.T` attribute.\n",
    "# This pose can be either a spatialmat SE3 or a 4x4 ndarray\n",
    "ee_axis.T = ur10.fkine(ur10.q)\n",
    "\n",
    "# Set the goal axes to something along the x axis\n",
    "ds_axis.T = ur10.fkine(ur10.q) * sm.SE3.Trans(0.2, 0.0, 0.0) \n",
    "\n",
    "# step the environment to view the changes\n",
    "env.step(0)\n"
   ]
  },
  {
   "cell_type": "code",
   "execution_count": null,
   "id": "6276090e",
   "metadata": {},
   "outputs": [],
   "source": [
    "\n",
    "\n",
    "# The end-effector pose of the panda (using .A to get a numpy array instead of an SE3 object)\n",
    "Te = ur10.fkine(ur10.q).A\n",
    "print('End-effector pose of UR10: ', Te)\n",
    "# The desired pose\n",
    "Tep = ur10.fkine(ur10.q) * sm.SE3.Trans(0.2, 0.0, 0.0)\n",
    "Tep = Tep.A #Convert to numpy\n",
    "print('The desired pose: ', Tep)\n",
    "e = angle_axis(Te, Tep)\n",
    "print(e)\n",
    "\n"
   ]
  },
  {
   "cell_type": "code",
   "execution_count": null,
   "id": "b6c82773",
   "metadata": {},
   "outputs": [],
   "source": [
    "def p_servo(\n",
    "    Te: np.ndarray, Tep: np.ndarray, gain: np.ndarray, threshold: float = 0.1\n",
    ") -> Tuple[np.ndarray, bool]:\n",
    "    \"\"\"\n",
    "    Position-based servoing.\n",
    "\n",
    "    Returns the end-effector velocity which will cause the robot to approach\n",
    "    the desired pose.\n",
    "\n",
    "    :param Te: The current pose of the end-effecor in the base frame.\n",
    "    :type wTe: ndarray\n",
    "    :param Tep: The desired pose of the end-effecor in the base frame.\n",
    "    :type wTep: ndarray\n",
    "    :param gain: The gain for the controller. A vector corresponding to each\n",
    "        Cartesian axis.\n",
    "    :type gain: array-like\n",
    "    :param threshold: The threshold or tolerance of the final error between\n",
    "        the robot's pose and desired pose\n",
    "    :type threshold: float\n",
    "\n",
    "    :returns v: The velocity of the end-effector which will casue the robot\n",
    "        to approach Tep\n",
    "    :rtype v: ndarray(6)\n",
    "    :returns arrived: True if the robot is within the threshold of the final\n",
    "        pose\n",
    "    :rtype arrived: bool\n",
    "    \"\"\"\n",
    "\n",
    "    # Calculate the pose error vector\n",
    "    e = angle_axis(Te, Tep)\n",
    "\n",
    "    # Construct our gain diagonal matrix\n",
    "    k = np.diag(gain)\n",
    "\n",
    "    # Calculate our desired end0effector velocity\n",
    "    v = k @ e\n",
    "\n",
    "    # Check if we have arrived\n",
    "    arrived = True if np.sum(np.abs(e)) < threshold else False\n",
    "\n",
    "    return v, arrived"
   ]
  },
  {
   "cell_type": "code",
   "execution_count": null,
   "id": "b0868795",
   "metadata": {},
   "outputs": [],
   "source": [
    "# Step the sim to view the robot in this configuration\n",
    "env.step(0)\n",
    "\n",
    "# A variable to specify when to break the loop\n",
    "arrived = False\n",
    "\n",
    "# Specify the gain for the p_servo method\n",
    "gain = np.array([1.0, 1.0, 1.0, 1.0, 1.0, 1.0])\n",
    "\n",
    "# Specify our timestep\n",
    "dt = 0.05\n",
    "\n",
    "\n",
    "\n",
    "# Set the goal axes to Tep\n",
    "goal_axes.T = Tep\n",
    "\n",
    "# Run the simulation until the robot arrives at the goal\n",
    "while not arrived:\n",
    "    # Work out the base frame manipulator Jacobian using the current robot configuration\n",
    "    J = ur10.jacob0(ur10.q)\n",
    "\n",
    "    # The end-effector pose of the panda (using .A to get a numpy array instead of an SE3 object)\n",
    "    Te = ur10.fkine(ur10.q).A\n",
    "\n",
    "    # Since the Panda has 7 joints, the Jacobian is not square, therefore we must\n",
    "    # use the pseudoinverse (the pinv method)\n",
    "    J_pinv = np.linalg.pinv(J)\n",
    "\n",
    "    # Calculate the required end-effector velocity and whether the robot has arrived\n",
    "    ev, arrived = p_servo(Te, Tep, gain=gain, threshold=0.001)\n",
    "\n",
    "    # Calculate the required joint velocities and apply to the robot\n",
    "    ur10.qd = J_pinv @ ev\n",
    "\n",
    "    # Update the ee axes\n",
    "    ee_axes.T = Te\n",
    "\n",
    "    # Step the simulator by dt seconds\n",
    "    env.step(dt)"
   ]
  },
  {
   "cell_type": "code",
   "execution_count": null,
   "id": "1d2981ef",
   "metadata": {},
   "outputs": [],
   "source": []
  },
  {
   "cell_type": "code",
   "execution_count": null,
   "id": "957f9cb8",
   "metadata": {},
   "outputs": [],
   "source": []
  }
 ],
 "metadata": {
  "kernelspec": {
   "display_name": "roboticstoolbox",
   "language": "python",
   "name": "roboticstoolbox"
  },
  "language_info": {
   "codemirror_mode": {
    "name": "ipython",
    "version": 3
   },
   "file_extension": ".py",
   "mimetype": "text/x-python",
   "name": "python",
   "nbconvert_exporter": "python",
   "pygments_lexer": "ipython3",
   "version": "3.8.13"
  }
 },
 "nbformat": 4,
 "nbformat_minor": 5
}
