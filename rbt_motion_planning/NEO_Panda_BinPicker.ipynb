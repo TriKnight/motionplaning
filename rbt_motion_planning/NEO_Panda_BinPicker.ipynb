{
 "cells": [
  {
   "cell_type": "code",
   "execution_count": 1,
   "id": "7f7a39c8",
   "metadata": {},
   "outputs": [],
   "source": [
    "# !pip3 install pybullet\n",
    "# !pip3 install roboticstoolbox-python[collision]\n",
    "# !pip install roboticstoolbox-python==1.1.0"
   ]
  },
  {
   "cell_type": "code",
   "execution_count": 1,
   "id": "10c186d5",
   "metadata": {},
   "outputs": [],
   "source": [
    "import swift\n",
    "import spatialgeometry as sg\n",
    "import roboticstoolbox as rtb\n",
    "import spatialmath as sm\n",
    "import numpy as np\n",
    "import qpsolvers as qp\n",
    "import cProfile\n",
    "from spatialmath.pose3d import SE3"
   ]
  },
  {
   "cell_type": "code",
   "execution_count": 2,
   "id": "6dbb17b3",
   "metadata": {},
   "outputs": [
    {
     "data": {
      "text/plain": [
       "array([ 0.3, -0.2,  0. ])"
      ]
     },
     "execution_count": 2,
     "metadata": {},
     "output_type": "execute_result"
    }
   ],
   "source": [
    "target = sg.Sphere(radius =0.01, pose=sm.SE3(0.3, -0.2, 0.0))\n",
    "target.T[:3, 3] "
   ]
  },
  {
   "cell_type": "code",
   "execution_count": 3,
   "id": "f23d0aff",
   "metadata": {},
   "outputs": [
    {
     "data": {
      "text/plain": [
       "10"
      ]
     },
     "execution_count": 3,
     "metadata": {},
     "output_type": "execute_result"
    }
   ],
   "source": [
    "# Launch the simulator Swift\n",
    "env = swift.Swift()\n",
    "env.launch()\n",
    "\n",
    "# Create a Panda robot object\n",
    "panda = rtb.models.Panda()\n",
    "\n",
    "# Set joint angles to ready configuration\n",
    "panda.q = panda.qr\n",
    "\n",
    "# Number of joint in the panda which we are controlling\n",
    "n = 7\n",
    "\n",
    "# Collisions\n",
    "## s1: Base plate\n",
    "s1 = sg.Cuboid(\n",
    "    scale=[0.60, 1.2, 0.02],\n",
    "    pose=sm.SE3(0.8, 0, 0.0))\n",
    "\n",
    "# s2, s3 boundary plate front 1 and 2 robot\n",
    "s2 = sg.Cuboid(\n",
    "    scale=[0.60, 0.02, 0.3],\n",
    "    pose=sm.SE3(0.8, 0.6, 0.15))\n",
    "\n",
    "s3 = sg.Cuboid(\n",
    "    scale=[0.60, 0.02, 0.3],\n",
    "    pose=sm.SE3(0.8, -0.6, 0.15))\n",
    "\n",
    "# s4, s5 boundary plate left and right robot\n",
    "s4 = sg.Cuboid(\n",
    "    scale=[0.02, 1.2, 0.3],\n",
    "    pose=sm.SE3(0.5, 0, 0.15))\n",
    "\n",
    "s5 = sg.Cuboid(\n",
    "    scale=[0.02, 1.2, 0.3],\n",
    "    pose=sm.SE3(1.1, 0, 0.15))\n",
    "\n",
    "## s6: Center plate\n",
    "s6 = sg.Cuboid(\n",
    "    scale=[0.60, 0.02, 0.3],\n",
    "    pose=sm.SE3(0.8, 0, 0.15))\n",
    "\n",
    "## s7: Sphere\n",
    "#s7 = sg.Sphere(radius =0.05,\n",
    "#    pose=sm.SE3(0.62, 0, 0.25))\n",
    "\n",
    "collisions = [s1, s2, s3, s4, s5, s6]\n",
    "\n",
    "\n",
    "# Make a target\n",
    "target_1 = sg.Sphere(radius =0.01, pose=sm.SE3(0.7, -0.3, 0.30))\n",
    "target_2 = sg.Sphere(radius =0.01, pose=sm.SE3(0.7, 0.3, 0.30))\n",
    "# Add the Panda and shapes to the simulator\n",
    "env.add(panda)\n",
    "env.add(s1)\n",
    "env.add(s2)\n",
    "env.add(s3)\n",
    "env.add(s4)\n",
    "env.add(s5)\n",
    "env.add(s6)\n",
    "#env.add(s7)\n",
    "env.add(target)\n",
    "\n",
    "\n",
    "# Set the desired end-effector pose to the location of target\n",
    "Tep_1 = panda.fkine(panda.q)\n",
    "Tep_1.A[:3, 3] = target_1.T[:3, 3] # get only position x y z\n",
    "Tep_2 = panda.fkine(panda.q)\n",
    "Tep_2.A[:3, 3] = target_2.T[:3, 3] # get only position x y z\n",
    "#Tep.A[2, 3] += 0.1\n",
    "\n",
    "#Tep.A[2, 3] += 0.1\n",
    "\n",
    "#Show axis\n",
    "# end-effector axes\n",
    "ee_axes = sg.Axes(0.1)\n",
    "# This pose can be either a spatialmat SE3 or a 4x4 ndarray\n",
    "ee_axes.T = panda.fkine(panda.q)\n",
    "# goal axes\n",
    "goal_axes_1 = sg.Axes(0.1)\n",
    "goal_axes_1.T = Tep_1\n",
    "# goal axes 1=2\n",
    "goal_axes_2 = sg.Axes(0.1)\n",
    "goal_axes_2.T = Tep_2\n",
    "# Add the axes to the environment\n",
    "env.add(ee_axes)\n",
    "env.add(goal_axes_1) \n",
    "env.add(goal_axes_2) "
   ]
  },
  {
   "cell_type": "code",
   "execution_count": 68,
   "id": "9be12e1e",
   "metadata": {},
   "outputs": [
    {
     "data": {
      "text/plain": [
       "ERobot: panda (by Franka Emika), 7 joints (RRRRRRR), 1 gripper, geometry, collision\n",
       "┌─────┬──────────────┬───────┬─────────────┬────────────────────────────────────────────────┐\n",
       "│link │     link     │ joint │   parent    │              ETS: parent to link               │\n",
       "├─────┼──────────────┼───────┼─────────────┼────────────────────────────────────────────────┤\n",
       "│   0 │ panda_link0  │       │ BASE        │                                                │\n",
       "│   1 │ panda_link1  │     0 │ panda_link0 │ SE3(0, 0, 0.333) ⊕ Rz(q0)                      │\n",
       "│   2 │ panda_link2  │     1 │ panda_link1 │ SE3(-90°, -0°, 0°) ⊕ Rz(q1)                    │\n",
       "│   3 │ panda_link3  │     2 │ panda_link2 │ SE3(0, -0.316, 0; 90°, -0°, 0°) ⊕ Rz(q2)       │\n",
       "│   4 │ panda_link4  │     3 │ panda_link3 │ SE3(0.0825, 0, 0; 90°, -0°, 0°) ⊕ Rz(q3)       │\n",
       "│   5 │ panda_link5  │     4 │ panda_link4 │ SE3(-0.0825, 0.384, 0; -90°, -0°, 0°) ⊕ Rz(q4) │\n",
       "│   6 │ panda_link6  │     5 │ panda_link5 │ SE3(90°, -0°, 0°) ⊕ Rz(q5)                     │\n",
       "│   7 │ panda_link7  │     6 │ panda_link6 │ SE3(0.088, 0, 0; 90°, -0°, 0°) ⊕ Rz(q6)        │\n",
       "│   8 │ @panda_link8 │       │ panda_link7 │ SE3(0, 0, 0.107)                               │\n",
       "└─────┴──────────────┴───────┴─────────────┴────────────────────────────────────────────────┘\n",
       "\n",
       "┌─────┬─────┬────────┬─────┬───────┬─────┬───────┬──────┐\n",
       "│name │ q0  │ q1     │ q2  │ q3    │ q4  │ q5    │ q6   │\n",
       "├─────┼─────┼────────┼─────┼───────┼─────┼───────┼──────┤\n",
       "│  qr │  0° │ -17.2° │  0° │ -126° │  0° │  115° │  45° │\n",
       "│  qz │  0° │  0°    │  0° │  0°   │  0° │  0°   │  0°  │\n",
       "└─────┴─────┴────────┴─────┴───────┴─────┴───────┴──────┘"
      ]
     },
     "execution_count": 68,
     "metadata": {},
     "output_type": "execute_result"
    }
   ],
   "source": [
    "panda"
   ]
  },
  {
   "cell_type": "code",
   "execution_count": 4,
   "id": "fa1cf50c",
   "metadata": {},
   "outputs": [
    {
     "data": {
      "text/plain": [
       "Link(\"panda_link1\", SE3(0, 0, 0.333) ⊕ Rz(q), parent=\"panda_link0\", qlim=[-2.9, 2.9])"
      ]
     },
     "execution_count": 4,
     "metadata": {},
     "output_type": "execute_result"
    }
   ],
   "source": [
    "panda.link_dict[\"panda_link1\"]"
   ]
  },
  {
   "cell_type": "code",
   "execution_count": 5,
   "id": "d330299f",
   "metadata": {},
   "outputs": [
    {
     "data": {
      "text/plain": [
       "Link(\"panda_hand\", SE3(0°, -0°, -45°), parent=\"panda_link8\")"
      ]
     },
     "execution_count": 5,
     "metadata": {},
     "output_type": "execute_result"
    }
   ],
   "source": [
    "panda.link_dict[\"panda_hand\"]"
   ]
  },
  {
   "cell_type": "code",
   "execution_count": 6,
   "id": "ca1bd604",
   "metadata": {},
   "outputs": [],
   "source": [
    "def move(Tep):\n",
    "    arrived = False\n",
    "    while not arrived:\n",
    "        # The pose of the Panda's end-effector\n",
    "        Te = panda.fkine(panda.q)\n",
    "\n",
    "        # Transform from the end-effector to desired pose\n",
    "        eTep = Te.inv() * Tep\n",
    "\n",
    "        # Spatial error\n",
    "        e = np.sum(np.abs(np.r_[eTep.t, eTep.rpy() * np.pi / 180]))\n",
    "\n",
    "        # Calulate the required end-effector spatial velocity for the robot\n",
    "        # to approach the goal. Gain is set to 1.0\n",
    "        v, arrived = rtb.p_servo(Te, Tep, 1.0, 0.01)\n",
    "\n",
    "        # Gain term (lambda) for control minimisation\n",
    "        Y = 0.01\n",
    "\n",
    "        # Quadratic component of objective function\n",
    "        Q = np.eye(n + 6)\n",
    "\n",
    "        # Joint velocity component of Q\n",
    "        Q[:n, :n] *= Y\n",
    "\n",
    "        # Slack component of Q\n",
    "        Q[n:, n:] = (1 / e) * np.eye(6)\n",
    "\n",
    "        # The equality contraints\n",
    "        Aeq = np.c_[panda.jacobe(panda.q), np.eye(6)]\n",
    "        beq = v.reshape((6,))\n",
    "\n",
    "        # The inequality constraints for joint limit avoidance\n",
    "        Ain = np.zeros((n + 6, n + 6))\n",
    "        bin = np.zeros(n + 6)\n",
    "\n",
    "        # The minimum angle (in radians) in which the joint is allowed to approach\n",
    "        # to its limit\n",
    "        ps = 0.05\n",
    "\n",
    "        # The influence angle (in radians) in which the velocity damper\n",
    "        # becomes active\n",
    "        pi = 0.9\n",
    "\n",
    "        # Form the joint limit velocity damper\n",
    "        Ain[:n, :n], bin[:n] = panda.joint_velocity_damper(ps, pi, n)\n",
    "\n",
    "        # For each collision in the scene\n",
    "        for collision in collisions:\n",
    "\n",
    "            # Form the velocity damper inequality contraint for each collision\n",
    "            # object on the robot to the collision in the scene\n",
    "            c_Ain, c_bin = panda.link_collision_damper(\n",
    "                collision,\n",
    "                panda.q[:n],\n",
    "                0.3,\n",
    "                0.05,\n",
    "                1.0,\n",
    "                start=panda.link_dict[\"panda_link1\"],\n",
    "                end=panda.link_dict[\"panda_hand\"],\n",
    "            )\n",
    "\n",
    "            # If there are any parts of the robot within the influence distance\n",
    "            # to the collision in the scene\n",
    "            if c_Ain is not None and c_bin is not None:\n",
    "                c_Ain = np.c_[c_Ain, np.zeros((c_Ain.shape[0], 6))]\n",
    "\n",
    "                # Stack the inequality constraints\n",
    "                Ain = np.r_[Ain, c_Ain]\n",
    "                bin = np.r_[bin, c_bin]\n",
    "\n",
    "        # Linear component of objective function: the manipulability Jacobian\n",
    "        c = np.r_[-panda.jacobm(panda.q).reshape((n,)), np.zeros(6)]\n",
    "\n",
    "        # The lower and upper bounds on the joint velocity and slack variable\n",
    "        lb = -np.r_[panda.qdlim[:n], 10 * np.ones(6)]\n",
    "        ub = np.r_[panda.qdlim[:n], 10 * np.ones(6)]\n",
    "\n",
    "        # Solve for the joint velocities dq\n",
    "        qd = qp.solve_qp(Q, c, Ain, bin, Aeq, beq, lb=lb, ub=ub, solver='osqp')\n",
    "\n",
    "        # Apply the joint velocities to the Panda\n",
    "        panda.qd[:n] = qd[:n]\n",
    "\n",
    "        # Step the simulator by 50 ms\n",
    "        env.step(0.01)\n"
   ]
  },
  {
   "cell_type": "code",
   "execution_count": 7,
   "id": "71907c9c",
   "metadata": {},
   "outputs": [
    {
     "name": "stderr",
     "output_type": "stream",
     "text": [
      "pybullet build time: May 20 2022 19:44:17\n",
      "/home/robotlab/anaconda3/envs/rbt/lib/python3.8/site-packages/qpsolvers/conversions/ensure_sparse_matrices.py:38: UserWarning: Converted P to scipy.sparse.csc.csc_matrix\n",
      "For best performance, build P as a scipy.sparse.csc_matrix rather than as a numpy.ndarray\n",
      "  warnings.warn(\n",
      "/home/robotlab/anaconda3/envs/rbt/lib/python3.8/site-packages/qpsolvers/conversions/ensure_sparse_matrices.py:38: UserWarning: Converted G to scipy.sparse.csc.csc_matrix\n",
      "For best performance, build G as a scipy.sparse.csc_matrix rather than as a numpy.ndarray\n",
      "  warnings.warn(\n",
      "/home/robotlab/anaconda3/envs/rbt/lib/python3.8/site-packages/qpsolvers/conversions/ensure_sparse_matrices.py:38: UserWarning: Converted A to scipy.sparse.csc.csc_matrix\n",
      "For best performance, build A as a scipy.sparse.csc_matrix rather than as a numpy.ndarray\n",
      "  warnings.warn(\n",
      "/home/robotlab/anaconda3/envs/rbt/lib/python3.8/site-packages/qpsolvers/solvers/osqp_.py:161: UserWarning: OSQP exited with status 'primal infeasible inaccurate'\n",
      "  warnings.warn(f\"OSQP exited with status '{res.info.status}'\")\n"
     ]
    },
    {
     "ename": "TypeError",
     "evalue": "'NoneType' object is not subscriptable",
     "output_type": "error",
     "traceback": [
      "\u001b[0;31m---------------------------------------------------------------------------\u001b[0m",
      "\u001b[0;31mTypeError\u001b[0m                                 Traceback (most recent call last)",
      "Cell \u001b[0;32mIn [7], line 3\u001b[0m\n\u001b[1;32m      1\u001b[0m \u001b[38;5;28;01mwhile\u001b[39;00m(\u001b[38;5;241m1\u001b[39m):\n\u001b[1;32m      2\u001b[0m     move(Tep_1)\n\u001b[0;32m----> 3\u001b[0m     \u001b[43mmove\u001b[49m\u001b[43m(\u001b[49m\u001b[43mTep_2\u001b[49m\u001b[43m)\u001b[49m\n",
      "Cell \u001b[0;32mIn [6], line 83\u001b[0m, in \u001b[0;36mmove\u001b[0;34m(Tep)\u001b[0m\n\u001b[1;32m     80\u001b[0m qd \u001b[38;5;241m=\u001b[39m qp\u001b[38;5;241m.\u001b[39msolve_qp(Q, c, Ain, \u001b[38;5;28mbin\u001b[39m, Aeq, beq, lb\u001b[38;5;241m=\u001b[39mlb, ub\u001b[38;5;241m=\u001b[39mub, solver\u001b[38;5;241m=\u001b[39m\u001b[38;5;124m'\u001b[39m\u001b[38;5;124mosqp\u001b[39m\u001b[38;5;124m'\u001b[39m)\n\u001b[1;32m     82\u001b[0m \u001b[38;5;66;03m# Apply the joint velocities to the Panda\u001b[39;00m\n\u001b[0;32m---> 83\u001b[0m panda\u001b[38;5;241m.\u001b[39mqd[:n] \u001b[38;5;241m=\u001b[39m \u001b[43mqd\u001b[49m\u001b[43m[\u001b[49m\u001b[43m:\u001b[49m\u001b[43mn\u001b[49m\u001b[43m]\u001b[49m\n\u001b[1;32m     85\u001b[0m \u001b[38;5;66;03m# Step the simulator by 50 ms\u001b[39;00m\n\u001b[1;32m     86\u001b[0m env\u001b[38;5;241m.\u001b[39mstep(\u001b[38;5;241m0.01\u001b[39m)\n",
      "\u001b[0;31mTypeError\u001b[0m: 'NoneType' object is not subscriptable"
     ]
    }
   ],
   "source": [
    "while(1):\n",
    "    move(Tep_1)\n",
    "    move(Tep_2)"
   ]
  },
  {
   "cell_type": "code",
   "execution_count": null,
   "id": "e570a513",
   "metadata": {},
   "outputs": [],
   "source": []
  },
  {
   "cell_type": "code",
   "execution_count": null,
   "id": "5b8afc35",
   "metadata": {},
   "outputs": [],
   "source": []
  }
 ],
 "metadata": {
  "kernelspec": {
   "display_name": "roboticstoolbox",
   "language": "python",
   "name": "roboticstoolbox"
  },
  "language_info": {
   "codemirror_mode": {
    "name": "ipython",
    "version": 3
   },
   "file_extension": ".py",
   "mimetype": "text/x-python",
   "name": "python",
   "nbconvert_exporter": "python",
   "pygments_lexer": "ipython3",
   "version": "3.8.13"
  }
 },
 "nbformat": 4,
 "nbformat_minor": 5
}
